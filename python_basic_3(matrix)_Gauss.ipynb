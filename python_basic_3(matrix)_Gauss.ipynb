{
 "cells": [
  {
   "cell_type": "code",
   "execution_count": 2,
   "metadata": {},
   "outputs": [
    {
     "name": "stdout",
     "output_type": "stream",
     "text": [
      "[[0. 0. 0.]\n",
      " [0. 0. 0.]]\n"
     ]
    }
   ],
   "source": [
    "#이미 정행진 행렬들에 대하여 알아보기(Ref BJ)\n",
    "\n",
    "import numpy as np\n",
    "A = np.zeros((2,3)) # 행렬의 크기, 사이즈\n",
    "print(A)"
   ]
  },
  {
   "cell_type": "code",
   "execution_count": 2,
   "metadata": {},
   "outputs": [
    {
     "data": {
      "text/plain": [
       "dtype('float64')"
      ]
     },
     "execution_count": 2,
     "metadata": {},
     "output_type": "execute_result"
    }
   ],
   "source": [
    "A.dtype  #64비트 실수 타입"
   ]
  },
  {
   "cell_type": "code",
   "execution_count": 4,
   "metadata": {},
   "outputs": [
    {
     "name": "stdout",
     "output_type": "stream",
     "text": [
      "[[1. 1. 1.]\n",
      " [1. 1. 1.]]\n"
     ]
    },
    {
     "data": {
      "text/plain": [
       "dtype('float64')"
      ]
     },
     "execution_count": 4,
     "metadata": {},
     "output_type": "execute_result"
    }
   ],
   "source": [
    "B = np.ones((2,3))\n",
    "print(B)\n",
    "B.dtype"
   ]
  },
  {
   "cell_type": "code",
   "execution_count": 5,
   "metadata": {},
   "outputs": [
    {
     "name": "stdout",
     "output_type": "stream",
     "text": [
      "[[1. 1. 1.]\n",
      " [1. 1. 1.]]\n"
     ]
    }
   ],
   "source": [
    "print(A+B)"
   ]
  },
  {
   "cell_type": "code",
   "execution_count": 123,
   "metadata": {},
   "outputs": [
    {
     "name": "stdout",
     "output_type": "stream",
     "text": [
      "[[1. 0. 0.]\n",
      " [0. 1. 0.]\n",
      " [0. 0. 1.]]\n"
     ]
    },
    {
     "data": {
      "text/plain": [
       "array([[3., 0., 0.],\n",
       "       [0., 3., 0.],\n",
       "       [0., 0., 3.]])"
      ]
     },
     "execution_count": 123,
     "metadata": {},
     "output_type": "execute_result"
    }
   ],
   "source": [
    "I= np.eye(3)  # eyp는 identity matrix의 I\n",
    "print(I)\n",
    "np.multiply(3, I) # scalar multiple of I by scalar 3"
   ]
  },
  {
   "cell_type": "code",
   "execution_count": 129,
   "metadata": {},
   "outputs": [
    {
     "name": "stdout",
     "output_type": "stream",
     "text": [
      "[[1. 1. 1.]\n",
      " [1. 1. 1.]\n",
      " [1. 1. 1.]]\n",
      "[[3. 3. 3.]\n",
      " [3. 3. 3.]\n",
      " [3. 3. 3.]]\n",
      "[[1. 1. 1.]\n",
      " [1. 1. 1.]\n",
      " [1. 1. 1.]]\n",
      "[[3. 3. 3.]\n",
      " [3. 3. 3.]\n",
      " [3. 3. 3.]]\n"
     ]
    }
   ],
   "source": [
    "J = np.ones((3,3))\n",
    "print(J)\n",
    "print(np.dot(J,J)) # 첫 번째 방법 for 행렬의 곱\n",
    "print(np.dot(I,J))\n",
    "print(J.dot(J)) # 두 번째 방법 for 행렬의 곱"
   ]
  },
  {
   "cell_type": "code",
   "execution_count": 47,
   "metadata": {},
   "outputs": [
    {
     "name": "stdout",
     "output_type": "stream",
     "text": [
      "A= [0 1 2 3 4 5 6 7 8 9]\n"
     ]
    }
   ],
   "source": [
    "# resize는 뷰는 생성하지 않고 바로 형태를 바꿈\n",
    "A = np.arange(10)\n",
    "\n",
    "print(\"A=\", A)"
   ]
  },
  {
   "cell_type": "code",
   "execution_count": 48,
   "metadata": {},
   "outputs": [],
   "source": [
    "A.resize(2,5)  # 2*5 행렬로 재배열"
   ]
  },
  {
   "cell_type": "code",
   "execution_count": 49,
   "metadata": {},
   "outputs": [
    {
     "name": "stdout",
     "output_type": "stream",
     "text": [
      "A= [[0 1 2 3 4]\n",
      " [5 6 7 8 9]]\n"
     ]
    }
   ],
   "source": [
    "print(\"A=\", A) # 새로운 A로 변함"
   ]
  },
  {
   "cell_type": "code",
   "execution_count": 5,
   "metadata": {},
   "outputs": [
    {
     "name": "stdout",
     "output_type": "stream",
     "text": [
      "[[1 3]\n",
      " [5 7]]\n",
      "[[2 4]\n",
      " [6 8]]\n"
     ]
    }
   ],
   "source": [
    "A = np.array([[1, 3],[5, 7]])\n",
    "B = np.array([[2,4], [6,8]])\n",
    "print(A)\n",
    "print(B)"
   ]
  },
  {
   "cell_type": "code",
   "execution_count": 6,
   "metadata": {},
   "outputs": [
    {
     "name": "stdout",
     "output_type": "stream",
     "text": [
      "[[1 3]\n",
      " [5 7]\n",
      " [2 4]\n",
      " [6 8]]\n"
     ]
    },
    {
     "data": {
      "text/plain": [
       "(4, 2)"
      ]
     },
     "execution_count": 6,
     "metadata": {},
     "output_type": "execute_result"
    }
   ],
   "source": [
    " # 세로로 붙이기\n",
    "C = np.vstack((A,B))  # vertcal \n",
    "print(C)\n",
    "C.shape"
   ]
  },
  {
   "cell_type": "code",
   "execution_count": 63,
   "metadata": {},
   "outputs": [
    {
     "name": "stdout",
     "output_type": "stream",
     "text": [
      "[[1 3 2 4]\n",
      " [5 7 6 8]]\n"
     ]
    },
    {
     "data": {
      "text/plain": [
       "(2, 4)"
      ]
     },
     "execution_count": 63,
     "metadata": {},
     "output_type": "execute_result"
    }
   ],
   "source": [
    " # 가로로 붙이기\n",
    "C = np.hstack((A,B)) #horizontal\n",
    "print(C)\n",
    "C.shape"
   ]
  },
  {
   "cell_type": "code",
   "execution_count": 65,
   "metadata": {},
   "outputs": [
    {
     "name": "stdout",
     "output_type": "stream",
     "text": [
      "[[1 3]\n",
      " [5 7]\n",
      " [2 4]\n",
      " [6 8]]\n",
      "\n",
      "[[1 3 2 4]\n",
      " [5 7 6 8]]\n"
     ]
    }
   ],
   "source": [
    "# concatenate 함수로 vstack과 hstack을 작성할 수 있음\n",
    "import numpy as np\n",
    "\n",
    "A = np.array([[1,3], [5,7]])\n",
    "B = np.array([[2,4], [6,8]])\n",
    "\n",
    "C = np.concatenate((A,B), axis =0) # 열방항으로, vstack\n",
    "print(C)\n",
    "print()\n",
    "D =  np.concatenate((A,B), axis =1) # 행방항으로, hstack\n",
    "print(D)"
   ]
  },
  {
   "cell_type": "code",
   "execution_count": 68,
   "metadata": {},
   "outputs": [
    {
     "name": "stdout",
     "output_type": "stream",
     "text": [
      "[[ 0  1  2  3  4]\n",
      " [ 5  6  7  8  9]\n",
      " [10 11 12 13 14]]\n"
     ]
    }
   ],
   "source": [
    "# hsplit를 이용하여 배열 분할하기, 왼쪽에서부터 읽음\n",
    "\n",
    "C = np.arange(15).reshape(3,5)\n",
    "print(C)"
   ]
  },
  {
   "cell_type": "code",
   "execution_count": 69,
   "metadata": {},
   "outputs": [],
   "source": [
    "c = np.hsplit(C, (2,4))  # 중간 2~3열을 기준으로 좌, 우 분할"
   ]
  },
  {
   "cell_type": "code",
   "execution_count": 70,
   "metadata": {},
   "outputs": [
    {
     "data": {
      "text/plain": [
       "array([[ 0,  1],\n",
       "       [ 5,  6],\n",
       "       [10, 11]])"
      ]
     },
     "execution_count": 70,
     "metadata": {},
     "output_type": "execute_result"
    }
   ],
   "source": [
    "c[0]  # C[:, 0:2]"
   ]
  },
  {
   "cell_type": "code",
   "execution_count": 71,
   "metadata": {},
   "outputs": [
    {
     "data": {
      "text/plain": [
       "array([[ 2,  3],\n",
       "       [ 7,  8],\n",
       "       [12, 13]])"
      ]
     },
     "execution_count": 71,
     "metadata": {},
     "output_type": "execute_result"
    }
   ],
   "source": [
    "c[1]  # C[:, 2:3]"
   ]
  },
  {
   "cell_type": "code",
   "execution_count": 72,
   "metadata": {},
   "outputs": [
    {
     "data": {
      "text/plain": [
       "array([[ 4],\n",
       "       [ 9],\n",
       "       [14]])"
      ]
     },
     "execution_count": 72,
     "metadata": {},
     "output_type": "execute_result"
    }
   ],
   "source": [
    "c[2]  # C[:, 3:4]"
   ]
  },
  {
   "cell_type": "code",
   "execution_count": 73,
   "metadata": {},
   "outputs": [],
   "source": [
    "d = np.hsplit(C, 5)  "
   ]
  },
  {
   "cell_type": "code",
   "execution_count": 74,
   "metadata": {},
   "outputs": [
    {
     "data": {
      "text/plain": [
       "array([[ 0],\n",
       "       [ 5],\n",
       "       [10]])"
      ]
     },
     "execution_count": 74,
     "metadata": {},
     "output_type": "execute_result"
    }
   ],
   "source": [
    "d[0]"
   ]
  },
  {
   "cell_type": "code",
   "execution_count": 75,
   "metadata": {},
   "outputs": [
    {
     "data": {
      "text/plain": [
       "array([[ 4],\n",
       "       [ 9],\n",
       "       [14]])"
      ]
     },
     "execution_count": 75,
     "metadata": {},
     "output_type": "execute_result"
    }
   ],
   "source": [
    "d[4]"
   ]
  },
  {
   "cell_type": "code",
   "execution_count": 80,
   "metadata": {},
   "outputs": [
    {
     "name": "stdout",
     "output_type": "stream",
     "text": [
      "[[ 0  1  2]\n",
      " [ 3  4  5]\n",
      " [ 6  7  8]\n",
      " [ 9 10 11]\n",
      " [12 13 14]]\n",
      "\n",
      "[[0 1 2]]\n",
      "\n",
      "[[3 4 5]]\n",
      "\n",
      "[[ 6  7  8]\n",
      " [ 9 10 11]\n",
      " [12 13 14]]\n"
     ]
    }
   ],
   "source": [
    "# vsplit를 이용하여 배열 분할하기, 위에서부터 읽음\n",
    "\n",
    "C = np.arange(15).reshape(5,3)\n",
    "print(C)\n",
    "c_1 = np.vsplit(C, (1,2))\n",
    "print()\n",
    "print(c_1[0])\n",
    "print()\n",
    "print(c_1[1])\n",
    "print()\n",
    "print(c_1[2])"
   ]
  },
  {
   "cell_type": "code",
   "execution_count": 82,
   "metadata": {},
   "outputs": [
    {
     "name": "stdout",
     "output_type": "stream",
     "text": [
      "[ 1  3  5  7  9 11 13]\n"
     ]
    }
   ],
   "source": [
    "# 인덱싱(indexing)하기\n",
    "\n",
    "import numpy as np\n",
    "\n",
    "A = np.arange(1,15, 2)\n",
    "print(A)"
   ]
  },
  {
   "cell_type": "code",
   "execution_count": 83,
   "metadata": {},
   "outputs": [
    {
     "data": {
      "text/plain": [
       "(7,)"
      ]
     },
     "execution_count": 83,
     "metadata": {},
     "output_type": "execute_result"
    }
   ],
   "source": [
    "A.shape"
   ]
  },
  {
   "cell_type": "code",
   "execution_count": 84,
   "metadata": {},
   "outputs": [
    {
     "data": {
      "text/plain": [
       "1"
      ]
     },
     "execution_count": 84,
     "metadata": {},
     "output_type": "execute_result"
    }
   ],
   "source": [
    "A[0]  # index 0이 첫번째임"
   ]
  },
  {
   "cell_type": "code",
   "execution_count": 85,
   "metadata": {},
   "outputs": [
    {
     "data": {
      "text/plain": [
       "3"
      ]
     },
     "execution_count": 85,
     "metadata": {},
     "output_type": "execute_result"
    }
   ],
   "source": [
    "A[1]"
   ]
  },
  {
   "cell_type": "code",
   "execution_count": 86,
   "metadata": {},
   "outputs": [
    {
     "data": {
      "text/plain": [
       "13"
      ]
     },
     "execution_count": 86,
     "metadata": {},
     "output_type": "execute_result"
    }
   ],
   "source": [
    "A[-1]  #맨 뒤에서 첫 번째"
   ]
  },
  {
   "cell_type": "code",
   "execution_count": 87,
   "metadata": {},
   "outputs": [
    {
     "data": {
      "text/plain": [
       "11"
      ]
     },
     "execution_count": 87,
     "metadata": {},
     "output_type": "execute_result"
    }
   ],
   "source": [
    "A[-2]  #맨 뒤에서 두번째"
   ]
  },
  {
   "cell_type": "code",
   "execution_count": 93,
   "metadata": {},
   "outputs": [
    {
     "name": "stdout",
     "output_type": "stream",
     "text": [
      "[[ 0  2  4  6  8]\n",
      " [10 12 14 16 18]\n",
      " [20 22 24 26 28]\n",
      " [30 32 34 36 38]]\n"
     ]
    }
   ],
   "source": [
    "# 인덱싱(indexing)하기\n",
    "\n",
    "import numpy as np\n",
    "\n",
    "A = np.arange(0, 40, 2).reshape(4,5)\n",
    "print(A)"
   ]
  },
  {
   "cell_type": "code",
   "execution_count": 96,
   "metadata": {},
   "outputs": [
    {
     "data": {
      "text/plain": [
       "2"
      ]
     },
     "execution_count": 96,
     "metadata": {},
     "output_type": "execute_result"
    }
   ],
   "source": [
    "A.ndim  # 2차원 배열이라는 뜻"
   ]
  },
  {
   "cell_type": "code",
   "execution_count": 97,
   "metadata": {},
   "outputs": [
    {
     "name": "stdout",
     "output_type": "stream",
     "text": [
      "0\n",
      "12\n"
     ]
    }
   ],
   "source": [
    "print(A[0,0])\n",
    "print(A[1,1])"
   ]
  },
  {
   "cell_type": "code",
   "execution_count": 99,
   "metadata": {},
   "outputs": [
    {
     "name": "stdout",
     "output_type": "stream",
     "text": [
      "[0 2 4 6 8]\n"
     ]
    }
   ],
   "source": [
    "print(A[0])  #첫 번째 행"
   ]
  },
  {
   "cell_type": "code",
   "execution_count": 100,
   "metadata": {},
   "outputs": [
    {
     "name": "stdout",
     "output_type": "stream",
     "text": [
      "[0 2 4 6 8]\n",
      "[10 12 14 16 18]\n",
      "[20 22 24 26 28]\n",
      "[30 32 34 36 38]\n"
     ]
    }
   ],
   "source": [
    "for row in A:\n",
    "    print(row)"
   ]
  },
  {
   "cell_type": "code",
   "execution_count": 102,
   "metadata": {},
   "outputs": [
    {
     "data": {
      "text/plain": [
       "array([[ 0, 10, 20, 30],\n",
       "       [ 2, 12, 22, 32],\n",
       "       [ 4, 14, 24, 34],\n",
       "       [ 6, 16, 26, 36],\n",
       "       [ 8, 18, 28, 38]])"
      ]
     },
     "execution_count": 102,
     "metadata": {},
     "output_type": "execute_result"
    }
   ],
   "source": [
    "# A의 전치행렬 transpose\n",
    "A.T\n"
   ]
  },
  {
   "cell_type": "code",
   "execution_count": 103,
   "metadata": {},
   "outputs": [
    {
     "name": "stdout",
     "output_type": "stream",
     "text": [
      "[ 0 10 20 30]\n",
      "[ 2 12 22 32]\n",
      "[ 4 14 24 34]\n",
      "[ 6 16 26 36]\n",
      "[ 8 18 28 38]\n"
     ]
    }
   ],
   "source": [
    "for column in A.T:   # A의 column을 생성함\n",
    "    print(column)"
   ]
  },
  {
   "cell_type": "code",
   "execution_count": 104,
   "metadata": {},
   "outputs": [
    {
     "name": "stdout",
     "output_type": "stream",
     "text": [
      "0\n",
      "2\n",
      "4\n",
      "6\n",
      "8\n",
      "10\n",
      "12\n",
      "14\n",
      "16\n",
      "18\n",
      "20\n",
      "22\n",
      "24\n",
      "26\n",
      "28\n",
      "30\n",
      "32\n",
      "34\n",
      "36\n",
      "38\n"
     ]
    }
   ],
   "source": [
    "#행렬 A의 원소를 0행부터 생성\n",
    "for a in A.flat:\n",
    "    print(a)"
   ]
  },
  {
   "cell_type": "code",
   "execution_count": 105,
   "metadata": {},
   "outputs": [
    {
     "name": "stdout",
     "output_type": "stream",
     "text": [
      "[1 3 5 7 9]\n"
     ]
    }
   ],
   "source": [
    "# 슬라이싱\n",
    "\n",
    "A = np.arange(1, 10, 2)\n",
    "print(A)"
   ]
  },
  {
   "cell_type": "code",
   "execution_count": 106,
   "metadata": {},
   "outputs": [
    {
     "data": {
      "text/plain": [
       "array([1, 3])"
      ]
     },
     "execution_count": 106,
     "metadata": {},
     "output_type": "execute_result"
    }
   ],
   "source": [
    "A[0:2]  # 0부터 1까지"
   ]
  },
  {
   "cell_type": "code",
   "execution_count": 107,
   "metadata": {},
   "outputs": [
    {
     "data": {
      "text/plain": [
       "array([1, 3])"
      ]
     },
     "execution_count": 107,
     "metadata": {},
     "output_type": "execute_result"
    }
   ],
   "source": [
    "A[:2] # 0생략 가능"
   ]
  },
  {
   "cell_type": "code",
   "execution_count": 108,
   "metadata": {},
   "outputs": [
    {
     "data": {
      "text/plain": [
       "array([1, 3, 5, 7, 9])"
      ]
     },
     "execution_count": 108,
     "metadata": {},
     "output_type": "execute_result"
    }
   ],
   "source": [
    "A[:] # 전체 생성"
   ]
  },
  {
   "cell_type": "code",
   "execution_count": 109,
   "metadata": {},
   "outputs": [
    {
     "data": {
      "text/plain": [
       "array([1, 5, 9])"
      ]
     },
     "execution_count": 109,
     "metadata": {},
     "output_type": "execute_result"
    }
   ],
   "source": [
    "A[::2]  # 두 칸씩 건너뛰기"
   ]
  },
  {
   "cell_type": "code",
   "execution_count": 110,
   "metadata": {},
   "outputs": [
    {
     "data": {
      "text/plain": [
       "array([1, 3, 5])"
      ]
     },
     "execution_count": 110,
     "metadata": {},
     "output_type": "execute_result"
    }
   ],
   "source": [
    "A[: -2]  # 뒤에서 2칸을 제외하기"
   ]
  },
  {
   "cell_type": "code",
   "execution_count": 111,
   "metadata": {},
   "outputs": [
    {
     "data": {
      "text/plain": [
       "array([7, 9])"
      ]
     },
     "execution_count": 111,
     "metadata": {},
     "output_type": "execute_result"
    }
   ],
   "source": [
    "A[-2 :] # 마지막 2개만 선택"
   ]
  },
  {
   "cell_type": "code",
   "execution_count": 112,
   "metadata": {},
   "outputs": [
    {
     "data": {
      "text/plain": [
       "array([1, 3, 5, 7, 9])"
      ]
     },
     "execution_count": 112,
     "metadata": {},
     "output_type": "execute_result"
    }
   ],
   "source": [
    "A"
   ]
  },
  {
   "cell_type": "code",
   "execution_count": 113,
   "metadata": {},
   "outputs": [
    {
     "name": "stdout",
     "output_type": "stream",
     "text": [
      "[[ 0  2  4  6  8]\n",
      " [10 12 14 16 18]\n",
      " [20 22 24 26 28]\n",
      " [30 32 34 36 38]]\n"
     ]
    }
   ],
   "source": [
    "# 행렬 인덱싱\n",
    "\n",
    "import numpy as np\n",
    "\n",
    "A = np.arange(0, 40, 2).reshape(4,5)\n",
    "print(A)"
   ]
  },
  {
   "cell_type": "code",
   "execution_count": 114,
   "metadata": {},
   "outputs": [
    {
     "data": {
      "text/plain": [
       "array([0, 2, 4, 6, 8])"
      ]
     },
     "execution_count": 114,
     "metadata": {},
     "output_type": "execute_result"
    }
   ],
   "source": [
    "A[0]"
   ]
  },
  {
   "cell_type": "code",
   "execution_count": 115,
   "metadata": {},
   "outputs": [
    {
     "data": {
      "text/plain": [
       "array([ 0, 10, 20, 30])"
      ]
     },
     "execution_count": 115,
     "metadata": {},
     "output_type": "execute_result"
    }
   ],
   "source": [
    "A[:, 0]  # 모든 행과 0번째 열, 즉 0번째 열"
   ]
  },
  {
   "cell_type": "code",
   "execution_count": 117,
   "metadata": {},
   "outputs": [
    {
     "data": {
      "text/plain": [
       "array([0, 2, 4, 6, 8])"
      ]
     },
     "execution_count": 117,
     "metadata": {},
     "output_type": "execute_result"
    }
   ],
   "source": [
    "A[0,:]  # 0번째 행과 모든 열, 즉 0번째 행"
   ]
  },
  {
   "cell_type": "code",
   "execution_count": 119,
   "metadata": {},
   "outputs": [],
   "source": [
    "A[:2, :2] =0"
   ]
  },
  {
   "cell_type": "code",
   "execution_count": 120,
   "metadata": {},
   "outputs": [
    {
     "data": {
      "text/plain": [
       "array([[ 0,  0,  4,  6,  8],\n",
       "       [ 0,  0, 14, 16, 18],\n",
       "       [20, 22, 24, 26, 28],\n",
       "       [30, 32, 34, 36, 38]])"
      ]
     },
     "execution_count": 120,
     "metadata": {},
     "output_type": "execute_result"
    }
   ],
   "source": [
    "A"
   ]
  },
  {
   "cell_type": "code",
   "execution_count": 1,
   "metadata": {},
   "outputs": [
    {
     "name": "stdout",
     "output_type": "stream",
     "text": [
      "a= [[0. 0. 0.]\n",
      " [0. 0. 0.]]\n"
     ]
    }
   ],
   "source": [
    "#실습 for 영행렬, 1로 이루어진 행렬, 3으로 이루어진 행렬 \n",
    "import numpy as np\n",
    "\n",
    "a = np.zeros((2,3)) # 행렬 사이즈가 2 * 3\n",
    "print(\"a=\", a)"
   ]
  },
  {
   "cell_type": "code",
   "execution_count": 2,
   "metadata": {},
   "outputs": [
    {
     "data": {
      "text/plain": [
       "array([[0., 0.],\n",
       "       [0., 0.],\n",
       "       [0., 0.]])"
      ]
     },
     "execution_count": 2,
     "metadata": {},
     "output_type": "execute_result"
    }
   ],
   "source": [
    "a.T  #전치행렬. 3 * 2 행렬"
   ]
  },
  {
   "cell_type": "code",
   "execution_count": 3,
   "metadata": {},
   "outputs": [
    {
     "name": "stdout",
     "output_type": "stream",
     "text": [
      "[[1. 1. 1.]\n",
      " [1. 1. 1.]]\n"
     ]
    }
   ],
   "source": [
    "b = np.ones((2,3))\n",
    "print(b)"
   ]
  },
  {
   "cell_type": "code",
   "execution_count": 4,
   "metadata": {},
   "outputs": [
    {
     "name": "stdout",
     "output_type": "stream",
     "text": [
      "[[3 3 3]\n",
      " [3 3 3]]\n"
     ]
    }
   ],
   "source": [
    "c = np.full((2,3), 3) # 3으로 이루어진 2 by 3 행렬\n",
    "print(c)"
   ]
  },
  {
   "cell_type": "code",
   "execution_count": 5,
   "metadata": {},
   "outputs": [
    {
     "name": "stdout",
     "output_type": "stream",
     "text": [
      "[[1. 0. 0.]\n",
      " [0. 1. 0.]\n",
      " [0. 0. 1.]]\n"
     ]
    }
   ],
   "source": [
    "d = np.eye(3) # 3차 단위행렬 Identity matrix.\n",
    "print(d)"
   ]
  },
  {
   "cell_type": "code",
   "execution_count": 6,
   "metadata": {},
   "outputs": [],
   "source": [
    "# 가우스-조단 소거법 이용하여 \n",
    "#  2x + 2y + 4z = 18\n",
    "#   x + 3y + 2z = 13\n",
    "#  3x + y + 3z = 14\n",
    "# 풀기"
   ]
  },
  {
   "cell_type": "code",
   "execution_count": 7,
   "metadata": {},
   "outputs": [
    {
     "name": "stdout",
     "output_type": "stream",
     "text": [
      "A= [[1 1]\n",
      " [1 2]]\n",
      "--- Test ---\n",
      "1.00\t1.00\t|\n",
      "1.00\t2.00\t|\n",
      "\n"
     ]
    }
   ],
   "source": [
    "# 행렬 A  출력하기\n",
    "import numpy as np\n",
    "\n",
    "def pprint(msg, A):  # 함수 pprint\n",
    "    print(\"---\", msg, \"---\")\n",
    "    (n,m) = A.shape  # A 행렬의 사이는?\n",
    "    for i in range (0,n):   # n=3이면 range (0,3)의미는 1,2,3번째 행\n",
    "        line = \"\"\n",
    "        for j in range(0, m):\n",
    "            line += \"{0:.2f}\".format(A[i,j]) + \"\\t\"  # \\t는 '탭'주기\n",
    "            if j == n-1:\n",
    "                line += \"|\"\n",
    "        print(line)\n",
    "    print(\"\")\n",
    "\n",
    "    \n",
    "# Test\n",
    "A =np.array([[1,1], [1,2]]) \n",
    "print(\"A=\", A)\n",
    "pprint(\"Test\", A )    "
   ]
  },
  {
   "cell_type": "code",
   "execution_count": 8,
   "metadata": {
    "scrolled": true
   },
   "outputs": [
    {
     "name": "stdout",
     "output_type": "stream",
     "text": [
      "--- 행렬로 표현 ---\n",
      "2.00\t2.00\t4.00\t|18.00\t\n",
      "1.00\t3.00\t2.00\t|13.00\t\n",
      "3.00\t1.00\t3.00\t|14.00\t\n",
      "\n",
      "--- 1번째 반복 ---\n",
      "1.00\t0.33\t1.00\t|4.67\t\n",
      "0.00\t2.67\t1.00\t|8.33\t\n",
      "0.00\t1.33\t2.00\t|8.67\t\n",
      "\n",
      "--- 2번째 반복 ---\n",
      "1.00\t0.00\t0.88\t|3.63\t\n",
      "0.00\t1.00\t0.38\t|3.12\t\n",
      "0.00\t0.00\t1.50\t|4.50\t\n",
      "\n",
      "--- 3번째 반복 ---\n",
      "1.00\t0.00\t0.00\t|1.00\t\n",
      "0.00\t1.00\t0.00\t|2.00\t\n",
      "0.00\t0.00\t1.00\t|3.00\t\n",
      "\n"
     ]
    }
   ],
   "source": [
    "# 가우스 소거법 함수\n",
    "def gauss(A):\n",
    "    (n,m) = A.shape\n",
    "    \n",
    "    \n",
    "    for i in range(0,n):\n",
    "        # i번째 열에서 절댓값이 최대인 성분의 행 선택\n",
    "        maxEl = abs(A[i,i])\n",
    "        maxRow = i\n",
    "        for k in range(i+1, n):\n",
    "            if abs(A[k,i]) > maxEl:\n",
    "                maxEL =abs(A[k,i])\n",
    "                maxRow = k\n",
    "        \n",
    "        # 현재 i번째 행과 최댓값을 갖는 행 maxRow의 교환\n",
    "        \n",
    "        for k in range(i, m):\n",
    "            tmp = A[maxRow, k]\n",
    "            A[maxRow, k] = A[i,k]\n",
    "            A[i,k] = tmp\n",
    "            \n",
    "        #피벗을 1로 만들기\n",
    "        piv = A[i,i]\n",
    "        for k in range(i, m):\n",
    "            A[i,k] = A[i,k]/piv\n",
    "        \n",
    "        #현재 i번째 열의 i번째 행을 제외한 모든 성분을 0으로 만들기\n",
    "        for k in range(0, n):\n",
    "            if k != i:\n",
    "                c = A[k,i]/A[i,i]\n",
    "                for j in range(i,m):\n",
    "                    if i == j:\n",
    "                        A[k,j] = 0\n",
    "                    else:\n",
    "                        A[k,j] = A[k,j] -c*A[i,j]  # replace kth row\n",
    "\n",
    "        pprint(str(i+1)+ \"번째 반복\", A)     #중간과정 출력\n",
    "\n",
    "    # Ax=b의 해 반환    \n",
    "    x = np.zeros(n)\n",
    "    for i in range(0,n):\n",
    "        x[i] = A[i,n]\n",
    "    return x\n",
    "\n",
    "# Augmented matrix(첨가행렬)\n",
    "A = np.array([[2., 2., 4., 18.], [1., 3., 2., 13.], [3., 1., 3., 14.]])\n",
    "pprint(\"행렬로 표현\", A) #첨가행렬\n",
    "x = gauss(A)  #가우스 소거법 적용"
   ]
  },
  {
   "cell_type": "code",
   "execution_count": 9,
   "metadata": {},
   "outputs": [
    {
     "name": "stdout",
     "output_type": "stream",
     "text": [
      "해:\t1.00\t2.00\t3.00\t\n"
     ]
    }
   ],
   "source": [
    "#출력 생성\n",
    "(n,m) = A.shape\n",
    "line = \"해:\\t\"\n",
    "for i in range(0,n):\n",
    "    line += \"{0:.2f}\".format(x[i]) + \"\\t\"\n",
    "print(line)    "
   ]
  },
  {
   "cell_type": "code",
   "execution_count": 41,
   "metadata": {},
   "outputs": [
    {
     "name": "stdout",
     "output_type": "stream",
     "text": [
      "--- 행렬로 표현 ---\n",
      "0.00\t2.00\t1.00\t|1.00\t\n",
      "2.00\t4.00\t-2.00\t|2.00\t\n",
      "3.00\t5.00\t-5.00\t|1.00\t\n",
      "\n",
      "--- 1번째 반복 ---\n",
      "1.00\t1.67\t-1.67\t|0.33\t\n",
      "0.00\t0.67\t1.33\t|1.33\t\n",
      "0.00\t2.00\t1.00\t|1.00\t\n",
      "\n",
      "--- 2번째 반복 ---\n",
      "1.00\t0.00\t-2.50\t|-0.50\t\n",
      "0.00\t1.00\t0.50\t|0.50\t\n",
      "0.00\t0.00\t1.00\t|1.00\t\n",
      "\n",
      "--- 3번째 반복 ---\n",
      "1.00\t0.00\t0.00\t|2.00\t\n",
      "0.00\t1.00\t0.00\t|0.00\t\n",
      "0.00\t0.00\t1.00\t|1.00\t\n",
      "\n",
      "해:\t2.00\t0.00\t1.00\t\n"
     ]
    }
   ],
   "source": [
    "# Another example\n",
    "B = np.array([[0., 2., 1., 1.], [2., 4., -2., 2.], [3., 5., -5., 1.]])\n",
    "pprint(\"행렬로 표현\", B) #첨가행렬\n",
    "x = gauss(B)  #가우스 소거법 적용\n",
    "\n",
    "#출력 생성\n",
    "(n,m) = B.shape\n",
    "line = \"해:\\t\"\n",
    "for i in range(0,n):\n",
    "    line += \"{0:.2f}\".format(x[i]) + \"\\t\"\n",
    "print(line)    "
   ]
  },
  {
   "cell_type": "code",
   "execution_count": 46,
   "metadata": {},
   "outputs": [
    {
     "name": "stdout",
     "output_type": "stream",
     "text": [
      "--- 행렬로 표현 ---\n",
      "1.00\t-5.00\t4.00\t|-3.00\t\n",
      "2.00\t-7.00\t3.00\t|-2.00\t\n",
      "-2.00\t1.00\t7.00\t|-1.00\t\n",
      "\n",
      "--- 1번째 반복 ---\n",
      "1.00\t-0.50\t-3.50\t|0.50\t\n",
      "0.00\t-6.00\t10.00\t|-3.00\t\n",
      "0.00\t-4.50\t7.50\t|-3.50\t\n",
      "\n",
      "--- 2번째 반복 ---\n",
      "1.00\t0.00\t-4.33\t|0.75\t\n",
      "0.00\t1.00\t-1.67\t|0.50\t\n",
      "0.00\t0.00\t0.00\t|-1.25\t\n",
      "\n",
      "--- 3번째 반복 ---\n",
      "1.00\t0.00\t0.00\t|nan\t\n",
      "0.00\t1.00\t0.00\t|nan\t\n",
      "0.00\t0.00\tnan\t|-inf\t\n",
      "\n",
      "해:\tnan\tnan\t-inf\t\n"
     ]
    },
    {
     "name": "stderr",
     "output_type": "stream",
     "text": [
      "C:\\Users\\CICAGO_Lab2\\AppData\\Roaming\\Python\\Python37\\site-packages\\ipykernel_launcher.py:25: RuntimeWarning: invalid value encountered in double_scalars\n",
      "C:\\Users\\CICAGO_Lab2\\AppData\\Roaming\\Python\\Python37\\site-packages\\ipykernel_launcher.py:25: RuntimeWarning: divide by zero encountered in double_scalars\n"
     ]
    }
   ],
   "source": [
    "# Another example\n",
    "C = np.array([[1., -5., 4., -3.], [2., -7., 3., -2.], [-2., 1., 7., -1.]])\n",
    "pprint(\"행렬로 표현\", C) #첨가행렬\n",
    "x = gauss(C)  #가우스 소거법 적용\n",
    "\n",
    "#출력 생성\n",
    "(n,m) = C.shape\n",
    "line = \"해:\\t\"\n",
    "for i in range(0,n):\n",
    "    line += \"{0:.2f}\".format(x[i]) + \"\\t\"\n",
    "print(line)    "
   ]
  },
  {
   "cell_type": "code",
   "execution_count": 43,
   "metadata": {
    "scrolled": true
   },
   "outputs": [
    {
     "name": "stdout",
     "output_type": "stream",
     "text": [
      "--- 행렬로 표현 ---\n",
      "3.00\t6.00\t-3.00\t|6.00\t\n",
      "2.00\t7.00\t4.00\t|28.00\t\n",
      "2.00\t-6.00\t4.00\t|2.00\t\n",
      "\n",
      "--- 1번째 반복 ---\n",
      "1.00\t2.00\t-1.00\t|2.00\t\n",
      "0.00\t3.00\t6.00\t|24.00\t\n",
      "0.00\t-10.00\t6.00\t|-2.00\t\n",
      "\n",
      "--- 2번째 반복 ---\n",
      "1.00\t0.00\t0.20\t|1.60\t\n",
      "0.00\t1.00\t-0.60\t|0.20\t\n",
      "0.00\t0.00\t7.80\t|23.40\t\n",
      "\n",
      "--- 3번째 반복 ---\n",
      "1.00\t0.00\t0.00\t|1.00\t\n",
      "0.00\t1.00\t0.00\t|2.00\t\n",
      "0.00\t0.00\t1.00\t|3.00\t\n",
      "\n",
      "해:\t1.00\t2.00\t3.00\t\n"
     ]
    }
   ],
   "source": [
    "# Another example\n",
    "D = np.array([[3., 6., -3., 6.], [2., 7., 4., 28.], [2., -6., 4., 2.]])\n",
    "pprint(\"행렬로 표현\", D) #첨가행렬\n",
    "x = gauss(D)  #가우스 소거법 적용\n",
    "\n",
    "#출력 생성\n",
    "(n,m) = D.shape\n",
    "line = \"해:\\t\"\n",
    "for i in range(0,n):\n",
    "    line += \"{0:.2f}\".format(x[i]) + \"\\t\"\n",
    "print(line)    "
   ]
  },
  {
   "cell_type": "code",
   "execution_count": null,
   "metadata": {},
   "outputs": [],
   "source": []
  }
 ],
 "metadata": {
  "kernelspec": {
   "display_name": "Python 3",
   "language": "python",
   "name": "python3"
  },
  "language_info": {
   "codemirror_mode": {
    "name": "ipython",
    "version": 3
   },
   "file_extension": ".py",
   "mimetype": "text/x-python",
   "name": "python",
   "nbconvert_exporter": "python",
   "pygments_lexer": "ipython3",
   "version": "3.7.3"
  }
 },
 "nbformat": 4,
 "nbformat_minor": 2
}

